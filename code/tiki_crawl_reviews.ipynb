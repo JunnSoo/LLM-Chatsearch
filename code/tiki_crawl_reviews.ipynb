{
 "cells": [
  {
   "cell_type": "code",
   "execution_count": 1,
   "metadata": {},
   "outputs": [],
   "source": [
    "import requests\n",
    "import time\n",
    "import random\n",
    "import pandas as pd\n",
    "import os\n",
    "import json\n",
    "from tqdm import tqdm\n",
    "import numpy as np\n",
    "import math"
   ]
  },
  {
   "cell_type": "code",
   "execution_count": 2,
   "metadata": {},
   "outputs": [],
   "source": [
    "cookies = {\n",
    "    'TIKI_GUEST_TOKEN': '8jWSuIDBb2NGVzr6hsUZXpkP1FRin7lY',\n",
    "    'TOKENS': '{%22access_token%22:%22eyXqm3C1WZOV4xJQKsTYcjgDrwzu6fh8%22}',\n",
    "    'amp_99d374': 'eSc-_0HT1um7cb57E7dwA0...1enloc6a2.1enlpc1q6.b.i.t',\n",
    "    'amp_99d374_tiki.vn': 'eSc-_0HT1um7cb57E7dwA0...1enloc6a2.1enlp8817.3.1.1',\n",
    "    '_gcl_au': '1.1.559117409.1605974236',\n",
    "    '_ants_utm_v2': '',\n",
    "    '_pk_id.638735871.2fc5': 'b92ae025fbbdb31f.1605974236.1.1605975278.1605974236.',\n",
    "    '_pk_ses.638735871.2fc5': '*',\n",
    "    '_trackity': '70e316b0-96f2-dbe1-a2ed-43ff60419991',\n",
    "    '_ga_NKX31X43RV': 'GS1.1.1605974235.1.1.1605975326.0',\n",
    "    '_ga': 'GA1.1.657946765.1605974236',\n",
    "    'ai_client_id': '11935756853.1605974227',\n",
    "    'an_session': 'zizkzrzjzlzizqzlzqzjzdzizizqzgzmzkzmzlzrzmzgzdzizlzjzmzqzkznzhzhzkzdzizhzdzizlzjzmzqzkznzhzhzkzdzizlzjzmzqzkznzhzhzkzdzjzdzhzqzdzizd2f27zdzjzdzlzmzmznzq',\n",
    "    'au_aid': '11935756853',\n",
    "    'dgs': '1605975268%3A3%3A0',\n",
    "    'au_gt': '1605974227146',\n",
    "    '_ants_services': '%5B%22cuid%22%5D',\n",
    "    '__admUTMtime': '1605974236',\n",
    "    '__iid': '749',\n",
    "    '__su': '0',\n",
    "    '_bs': 'bb9a32f6-ab13-ce80-92d6-57fd3fd6e4c8',\n",
    "    '_gid': 'GA1.2.867846791.1605974237',\n",
    "    '_fbp': 'fb.1.1605974237134.1297408816',\n",
    "    '_hjid': 'f152cf33-7323-4410-b9ae-79f6622ebc48',\n",
    "    '_hjFirstSeen': '1',\n",
    "    '_hjIncludedInPageviewSample': '1',\n",
    "    '_hjAbsoluteSessionInProgress': '0',\n",
    "    '_hjIncludedInSessionSample': '1',\n",
    "    'tiki_client_id': '657946765.1605974236',\n",
    "    '__gads': 'ID=ae56424189ecccbe-227eb8e1d6c400a8:T=1605974229:RT=1605974229:S=ALNI_MZFWYf2BAjzCSiRNLC3bKI-W_7YHA',\n",
    "    'proxy_s_sv': '1605976041662',\n",
    "    'TKSESSID': '8bcd49b02e1e16aa1cdb795c54d7b460',\n",
    "    'TIKI_RECOMMENDATION': '21dd50e7f7c194df673ea3b717459249',\n",
    "    'cto_bundle': 'V9Dkml9NVXNkQmJ6aEVLcXNqbHdjcVZoQ0l5RXpOMlRybjdDT0JrUnNxVXc2bHd0N2J3Y2FCdmZVQXdYY1QlMkJYUmxXSHZ2UEFwd3IzRHhzRWJYMlQlMkJsQjhjQlA1JTJCcExyRzlUQk5CYUdMdjl2STNQanVsa3cycHd3SHElMkJabnI3dzNhREpZcFVyandyM1d1QWpJbWYxT1UyWDdHZyUzRCUzRA',\n",
    "    'TIKI_RECENTLYVIEWED': '58259141',\n",
    "    '_ants_event_his': '%7B%22action%22%3A%22view%22%2C%22time%22%3A1605974691247%7D',\n",
    "    '_gat': '1',\n",
    "}\n",
    "\n",
    "headers = {\n",
    "    'User-Agent': 'Mozilla/5.0 (Windows NT 10.0; Win64; x64) AppleWebKit/537.36 (KHTML, like Gecko) Chrome/122.0.0.0 Safari/537.36',\n",
    "    'Accept': 'application/json, text/plain, */*',\n",
    "    'Accept-Language': 'vi-VN,vi;q=0.8,en-US;q=0.5,en;q=0.3',\n",
    "    'Referer': 'https://tiki.vn/?src=header_tiki',\n",
    "    'x-guest-token': '8jWSuIDBb2NGVzr6hsUZXpkP1FRin7lY',\n",
    "    'Connection': 'keep-alive',\n",
    "    'TE': 'Trailers',\n",
    "}\n",
    "\n",
    "params = {\n",
    "    'limit': '1',\n",
    "    'include': 'comments,contribute_info,attribute_vote_summary',\n",
    "    'sort': 'score%7Cdesc,id%7Cdesc,stars%7Call',\n",
    "    'page': '1',\n",
    "    'spid': '',\n",
    "    'product_id': '',\n",
    "    'seller_id': ''\n",
    "}"
   ]
  },
  {
   "cell_type": "code",
   "execution_count": 3,
   "metadata": {},
   "outputs": [
    {
     "data": {
      "text/html": [
       "<div>\n",
       "<style scoped>\n",
       "    .dataframe tbody tr th:only-of-type {\n",
       "        vertical-align: middle;\n",
       "    }\n",
       "\n",
       "    .dataframe tbody tr th {\n",
       "        vertical-align: top;\n",
       "    }\n",
       "\n",
       "    .dataframe thead th {\n",
       "        text-align: right;\n",
       "    }\n",
       "</style>\n",
       "<table border=\"1\" class=\"dataframe\">\n",
       "  <thead>\n",
       "    <tr style=\"text-align: right;\">\n",
       "      <th></th>\n",
       "      <th>id</th>\n",
       "      <th>sku</th>\n",
       "      <th>name</th>\n",
       "      <th>short_description</th>\n",
       "      <th>price</th>\n",
       "      <th>list_price</th>\n",
       "      <th>discount</th>\n",
       "      <th>discount_rate</th>\n",
       "      <th>review_count</th>\n",
       "      <th>rating_average</th>\n",
       "      <th>inventory_status</th>\n",
       "      <th>quantity_sold</th>\n",
       "      <th>brand_id</th>\n",
       "      <th>brand_name</th>\n",
       "      <th>spid</th>\n",
       "      <th>seller_id</th>\n",
       "    </tr>\n",
       "  </thead>\n",
       "  <tbody>\n",
       "    <tr>\n",
       "      <th>0</th>\n",
       "      <td>50347611</td>\n",
       "      <td>8829610931441</td>\n",
       "      <td>Combo 2 Quần shorts thể thao nam dạng sọt spor...</td>\n",
       "      <td>Quần shorts thể thao nam dạng sọt sport đùiCh...</td>\n",
       "      <td>79000</td>\n",
       "      <td>130000</td>\n",
       "      <td>51000</td>\n",
       "      <td>39</td>\n",
       "      <td>165</td>\n",
       "      <td>4.5</td>\n",
       "      <td>available</td>\n",
       "      <td>552.0</td>\n",
       "      <td>224521</td>\n",
       "      <td>Doka</td>\n",
       "      <td>50348115</td>\n",
       "      <td>9691</td>\n",
       "    </tr>\n",
       "  </tbody>\n",
       "</table>\n",
       "</div>"
      ],
      "text/plain": [
       "         id            sku                                               name  \\\n",
       "0  50347611  8829610931441  Combo 2 Quần shorts thể thao nam dạng sọt spor...   \n",
       "\n",
       "                                   short_description  price  list_price  \\\n",
       "0   Quần shorts thể thao nam dạng sọt sport đùiCh...  79000      130000   \n",
       "\n",
       "   discount  discount_rate  review_count  rating_average inventory_status  \\\n",
       "0     51000             39           165             4.5        available   \n",
       "\n",
       "   quantity_sold  brand_id brand_name      spid  seller_id  \n",
       "0          552.0    224521       Doka  50348115       9691  "
      ]
     },
     "execution_count": 3,
     "metadata": {},
     "output_type": "execute_result"
    }
   ],
   "source": [
    "current_dir = os.getcwd()\n",
    "parent_dir = os.path.dirname(current_dir)\n",
    "\n",
    "filename = 'thoi_trang_nam'\n",
    "extension = '.csv'\n",
    "\n",
    "df = pd.read_csv(os.path.join(parent_dir, f'Data\\{filename + extension}'))\n",
    "\n",
    "df.head(1)"
   ]
  },
  {
   "cell_type": "code",
   "execution_count": 4,
   "metadata": {},
   "outputs": [],
   "source": [
    "def review_parser(review, product_id, seller_id, spid):\n",
    "    d = {}\n",
    "    try: \n",
    "        d['product_id'] = product_id\n",
    "        d['seller_id'] = seller_id\n",
    "        d['spid'] = spid\n",
    "        \n",
    "        data = review.get('data')[0]\n",
    "        \n",
    "        d['id'] = data['id']\n",
    "        d['title'] = data['title']\n",
    "        d['content'] = data['content']\n",
    "        d['status'] = data['status']\n",
    "        d['customer_id'] = data['customer_id']\n",
    "        \n",
    "        seller = data['seller']\n",
    "        if seller:\n",
    "            d['seller_id'] = seller.get('id')\n",
    "            d['seller_name'] = seller.get('name')\n",
    "        else:\n",
    "            d['seller_id'] = None\n",
    "            d['seller_name'] = None\n",
    "            \n",
    "        d['created_at'] = data['created_at']\n",
    "        \n",
    "        created_by = data['created_by']\n",
    "        if created_by:\n",
    "            d['name'] = created_by['name']\n",
    "            d['full_name'] = created_by['full_name']\n",
    "            d['purchased'] = created_by['purchased']\n",
    "            d['purchased_at'] = created_by['purchased_at']\n",
    "        else:\n",
    "            d['name'] = None\n",
    "            d['full_name'] = None\n",
    "            d['purchased'] = None\n",
    "            d['purchased_at'] = None\n",
    "            \n",
    "        # stars = review.get('stars')\n",
    "        # if stars:\n",
    "        #     d['1_star_count'] = stars.get('1').get('count')\n",
    "        #     d['1_star_percent'] = stars.get('1').get('percent')\n",
    "        #     d['2_star_count'] = stars.get('2').get('count')\n",
    "        #     d['2_star_percent'] = stars.get('2').get('percent')\n",
    "        #     d['3_star_count'] = stars.get('3').get('count')\n",
    "        #     d['3_star_percent'] = stars.get('3').get('percent')\n",
    "        #     d['4_star_count'] = stars.get('4').get('count')\n",
    "        #     d['4_star_percent'] = stars.get('4').get('percent')\n",
    "        #     d['5_star_count'] = stars.get('5').get('count')\n",
    "        #     d['5_star_percent'] = stars.get('5').get('percent')\n",
    "        # else:\n",
    "        #     d['1_star_count'] = None\n",
    "        #     d['1_star_percent'] = None\n",
    "        #     d['2_star_count'] = None\n",
    "        #     d['2_star_percent'] = None\n",
    "        #     d['3_star_count'] = None\n",
    "        #     d['3_star_percent'] = None\n",
    "        #     d['4_star_count'] = None\n",
    "        #     d['4_star_percent'] = None\n",
    "        #     d['5_star_count'] = None\n",
    "        #     d['5_star_percent'] = None\n",
    "        \n",
    "        # d['rating_average'] = review.get('rating_average')\n",
    "        # d['reviews_count'] = review.get('reviews_count')\n",
    "                \n",
    "    except Exception as e:\n",
    "        print(f\"Error parsing reviews: {e}\")\n",
    "    return d"
   ]
  },
  {
   "cell_type": "code",
   "execution_count": 15,
   "metadata": {},
   "outputs": [
    {
     "name": "stderr",
     "output_type": "stream",
     "text": [
      "Crawling reviews from thoi_trang_nam.csv:   0%|          | 5/1390 [07:49<36:07:38, 93.91s/it]\n",
      "Crawling reviews from thoi_trang_nam.csv:   2%|▏         | 1095/66842 [05:51<4:10:42,  4.37it/s] "
     ]
    },
    {
     "name": "stdout",
     "output_type": "stream",
     "text": [
      "Error parsing reviews: 'seller'\n"
     ]
    },
    {
     "name": "stderr",
     "output_type": "stream",
     "text": [
      "Crawling reviews from thoi_trang_nam.csv:   5%|▍         | 3273/66842 [17:19<4:00:08,  4.41it/s] "
     ]
    },
    {
     "name": "stdout",
     "output_type": "stream",
     "text": [
      "Error parsing reviews: 'full_name'\n"
     ]
    },
    {
     "name": "stderr",
     "output_type": "stream",
     "text": [
      "Crawling reviews from thoi_trang_nam.csv:   5%|▍         | 3333/66842 [17:33<4:58:46,  3.54it/s]"
     ]
    },
    {
     "name": "stdout",
     "output_type": "stream",
     "text": [
      "Error parsing reviews: 'full_name'\n"
     ]
    },
    {
     "name": "stderr",
     "output_type": "stream",
     "text": [
      "Crawling reviews from thoi_trang_nam.csv:   5%|▌         | 3375/66842 [17:46<4:29:55,  3.92it/s]"
     ]
    },
    {
     "name": "stdout",
     "output_type": "stream",
     "text": [
      "Error parsing reviews: 'full_name'\n"
     ]
    },
    {
     "name": "stderr",
     "output_type": "stream",
     "text": [
      "Crawling reviews from thoi_trang_nam.csv:   5%|▌         | 3378/66842 [17:46<4:22:29,  4.03it/s]"
     ]
    },
    {
     "name": "stdout",
     "output_type": "stream",
     "text": [
      "Error parsing reviews: 'full_name'\n"
     ]
    },
    {
     "name": "stderr",
     "output_type": "stream",
     "text": [
      "Crawling reviews from thoi_trang_nam.csv:   5%|▌         | 3382/66842 [17:47<4:25:14,  3.99it/s]"
     ]
    },
    {
     "name": "stdout",
     "output_type": "stream",
     "text": [
      "Error parsing reviews: 'full_name'\n"
     ]
    },
    {
     "name": "stderr",
     "output_type": "stream",
     "text": [
      "Crawling reviews from thoi_trang_nam.csv:   9%|▉         | 6022/66842 [30:41<3:47:15,  4.46it/s] "
     ]
    }
   ],
   "source": [
    "length = df['review_count'].sum()\n",
    "\n",
    "progress_bar = tqdm(total=length, desc=f'Crawling reviews from {filename + extension}', position=0)\n",
    "\n",
    "review_list = list()\n",
    "\n",
    "for index, row in df.iterrows():\n",
    "    # Đếm số lượng review cho sản phẩm đó\n",
    "    review_count = row['review_count']\n",
    "    \n",
    "    # Lấy các giá trị id để tạo API\n",
    "    params['product_id'] = row['id']\n",
    "    params['seller_id'] = row['seller_id']\n",
    "    params['spid'] = row['spid']\n",
    "    \n",
    "    limit = math.ceil(review_count / int(params['page']))\n",
    "    \n",
    "    for i in range(1, limit + 1):\n",
    "        params['page'] = i\n",
    "        response = requests.get('https://tiki.vn/api/v2/reviews', headers=headers, params=params, cookies=cookies)\n",
    "\n",
    "        if response.status_code == 200:\n",
    "            try:\n",
    "                review = response.json()\n",
    "                parsed_data = review_parser(review, params['product_id'], params['seller_id'], params['spid'])\n",
    "                review_list.append(parsed_data)\n",
    "\n",
    "            except json.JSONDecodeError as json_error:\n",
    "                print(f'Error decoding JSON: {json_error}')\n",
    "        else:\n",
    "            print(f\"Failed to crawl product {params['product_id']}. Status code: {response.status_code}\")\n",
    "        \n",
    "        progress_bar.update(1)\n",
    "    \n",
    "progress_bar.close()\n"
   ]
  },
  {
   "cell_type": "code",
   "execution_count": null,
   "metadata": {},
   "outputs": [
    {
     "name": "stdout",
     "output_type": "stream",
     "text": [
      "Saved giay_dep_nu_stars.csv\n"
     ]
    }
   ],
   "source": [
    "save_name = filename + '_reviews' + extension\n",
    "\n",
    "df_stars = pd.DataFrame(review_list)\n",
    "df_stars.to_csv(os.path.join(parent_dir, f'Data\\{save_name}'), index=False, encoding='utf-8')\n",
    "print(f\"Saved {save_name}\")"
   ]
  }
 ],
 "metadata": {
  "kernelspec": {
   "display_name": "Python 3",
   "language": "python",
   "name": "python3"
  },
  "language_info": {
   "codemirror_mode": {
    "name": "ipython",
    "version": 3
   },
   "file_extension": ".py",
   "mimetype": "text/x-python",
   "name": "python",
   "nbconvert_exporter": "python",
   "pygments_lexer": "ipython3",
   "version": "3.11.4"
  },
  "orig_nbformat": 4
 },
 "nbformat": 4,
 "nbformat_minor": 2
}
