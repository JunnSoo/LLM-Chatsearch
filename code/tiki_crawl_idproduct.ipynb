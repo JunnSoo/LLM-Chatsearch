{
 "cells": [
  {
   "cell_type": "code",
   "execution_count": 31,
   "metadata": {},
   "outputs": [],
   "source": [
    "import requests\n",
    "import time\n",
    "import random\n",
    "import pandas as pd\n",
    "import os"
   ]
  },
  {
   "cell_type": "markdown",
   "metadata": {},
   "source": []
  },
  {
   "cell_type": "code",
   "execution_count": 32,
   "metadata": {},
   "outputs": [],
   "source": [
    "cookies = {\n",
    "    'TIKI_GUEST_TOKEN': '8jWSuIDBb2NGVzr6hsUZXpkP1FRin7lY',\n",
    "    'TOKENS': '{%22access_token%22:%22eyXqm3C1WZOV4xJQKsTYcjgDrwzu6fh8%22}',\n",
    "    'amp_99d374': 'eSc-_0HT1um7cb57E7dwA0...1enloc6a2.1enlpc1q6.b.i.t',\n",
    "    'amp_99d374_tiki.vn': 'eSc-_0HT1um7cb57E7dwA0...1enloc6a2.1enlp8817.3.1.1',\n",
    "    '_gcl_au': '1.1.559117409.1605974236',\n",
    "    '_ants_utm_v2': '',\n",
    "    '_pk_id.638735871.2fc5': 'b92ae025fbbdb31f.1605974236.1.1605975278.1605974236.',\n",
    "    '_pk_ses.638735871.2fc5': '*',\n",
    "    '_trackity': '70e316b0-96f2-dbe1-a2ed-43ff60419991',\n",
    "    '_ga_NKX31X43RV': 'GS1.1.1605974235.1.1.1605975326.0',\n",
    "    '_ga': 'GA1.1.657946765.1605974236',\n",
    "    'ai_client_id': '11935756853.1605974227',\n",
    "    'an_session': 'zizkzrzjzlzizqzlzqzjzdzizizqzgzmzkzmzlzrzmzgzdzizlzjzmzqzkznzhzhzkzdzizhzdzizlzjzmzqzkznzhzhzkzdzizlzjzmzqzkznzhzhzkzdzjzdzhzqzdzizd2f27zdzjzdzlzmzmznzq',\n",
    "    'au_aid': '11935756853',\n",
    "    'dgs': '1605975268%3A3%3A0',\n",
    "    'au_gt': '1605974227146',\n",
    "    '_ants_services': '%5B%22cuid%22%5D',\n",
    "    '__admUTMtime': '1605974236',\n",
    "    '__iid': '749',\n",
    "    '__su': '0',\n",
    "    '_bs': 'bb9a32f6-ab13-ce80-92d6-57fd3fd6e4c8',\n",
    "    '_gid': 'GA1.2.867846791.1605974237',\n",
    "    '_fbp': 'fb.1.1605974237134.1297408816',\n",
    "    '_hjid': 'f152cf33-7323-4410-b9ae-79f6622ebc48',\n",
    "    '_hjFirstSeen': '1',\n",
    "    '_hjIncludedInPageviewSample': '1',\n",
    "    '_hjAbsoluteSessionInProgress': '0',\n",
    "    '_hjIncludedInSessionSample': '1',\n",
    "    'tiki_client_id': '657946765.1605974236',\n",
    "    '__gads': 'ID=ae56424189ecccbe-227eb8e1d6c400a8:T=1605974229:RT=1605974229:S=ALNI_MZFWYf2BAjzCSiRNLC3bKI-W_7YHA',\n",
    "    'proxy_s_sv': '1605976041662',\n",
    "    'TKSESSID': '8bcd49b02e1e16aa1cdb795c54d7b460',\n",
    "    'TIKI_RECOMMENDATION': '21dd50e7f7c194df673ea3b717459249',\n",
    "    'cto_bundle': 'V9Dkml9NVXNkQmJ6aEVLcXNqbHdjcVZoQ0l5RXpOMlRybjdDT0JrUnNxVXc2bHd0N2J3Y2FCdmZVQXdYY1QlMkJYUmxXSHZ2UEFwd3IzRHhzRWJYMlQlMkJsQjhjQlA1JTJCcExyRzlUQk5CYUdMdjl2STNQanVsa3cycHd3SHElMkJabnI3dzNhREpZcFVyandyM1d1QWpJbWYxT1UyWDdHZyUzRCUzRA',\n",
    "    'TIKI_RECENTLYVIEWED': '58259141',\n",
    "    '_ants_event_his': '%7B%22action%22%3A%22view%22%2C%22time%22%3A1605974691247%7D',\n",
    "    '_gat': '1',\n",
    "}\n",
    "\n",
    "headers = {\n",
    "    'User-Agent': 'Mozilla/5.0 (Windows NT 10.0; Win64; x64) AppleWebKit/537.36 (KHTML, like Gecko) Chrome/122.0.0.0 Safari/537.36',\n",
    "    'Accept': 'application/json, text/plain, */*',\n",
    "    'Accept-Language': 'vi-VN,vi;q=0.8,en-US;q=0.5,en;q=0.3',\n",
    "    'Referer': 'https://tiki.vn/?src=header_tiki',\n",
    "    'x-guest-token': '8jWSuIDBb2NGVzr6hsUZXpkP1FRin7lY',\n",
    "    'Connection': 'keep-alive',\n",
    "    'TE': 'Trailers',\n",
    "}\n",
    "\n",
    "params = {\n",
    "    'limit': '60',\n",
    "    'include': 'sale-attrs,badges,product_links,brand,category,stock_item,advertisement',\n",
    "    'aggregations': '1',\n",
    "    'trackity_id': 'f78e9252-5f5d-c4cb-9bbd-1d288df6d76d',\n",
    "    'category': '976',\n",
    "    'page': '1',\n",
    "    'src': 'c976',\n",
    "    'urlKey': 'tui-thoi-trang-nu',\n",
    "}"
   ]
  },
  {
   "cell_type": "code",
   "execution_count": 33,
   "metadata": {},
   "outputs": [
    {
     "name": "stdout",
     "output_type": "stream",
     "text": [
      "d:\\University\\Môn học\\KHDL Ứng dụng\\Lab\\Crawling-Tiki-Data\\Data\\product_id_ncds.csv\n"
     ]
    }
   ],
   "source": [
    "current_dir = os.getcwd()\n",
    "parent_dir = os.path.dirname(current_dir)\n",
    "csv_path = os.path.join(parent_dir, 'Data\\product_id_ncds.csv')\n",
    "print(csv_path)"
   ]
  },
  {
   "cell_type": "code",
   "execution_count": 34,
   "metadata": {},
   "outputs": [],
   "source": [
    "# with open(os.path.join(current_dir, 'saved_order.txt'), 'r') as file:\n",
    "#     order = file.read()\n",
    "#     order = int(order)\n",
    "\n",
    "# start = 2\n",
    "# end = start + 1\n",
    "\n",
    "# start *= 10 + 1\n",
    "# end *= 10\n",
    "\n",
    "# print(start, end, order)"
   ]
  },
  {
   "cell_type": "markdown",
   "metadata": {},
   "source": [
    "- 1: thời trang nam (915)\n",
    "- 2: thời trang nữ (931)\n",
    "- 3: giày dép nam (1686)\n",
    "- 4: giày dép nữ (1703)"
   ]
  },
  {
   "cell_type": "code",
   "execution_count": 35,
   "metadata": {},
   "outputs": [
    {
     "name": "stdout",
     "output_type": "stream",
     "text": [
      "Successful request for page 1.\n",
      "Successful request for page 2.\n",
      "Successful request for page 3.\n",
      "Successful request for page 4.\n",
      "Successful request for page 5.\n",
      "Successful request for page 6.\n",
      "Successful request for page 7.\n",
      "Successful request for page 8.\n",
      "Successful request for page 9.\n",
      "Successful request for page 10.\n",
      "Successful request for page 11.\n",
      "Successful request for page 12.\n",
      "Successful request for page 13.\n",
      "Successful request for page 14.\n",
      "Successful request for page 15.\n",
      "Successful request for page 16.\n",
      "Successful request for page 17.\n",
      "Successful request for page 18.\n",
      "Successful request for page 19.\n",
      "Successful request for page 20.\n",
      "Successful request for page 21.\n",
      "Successful request for page 22.\n",
      "Successful request for page 23.\n",
      "Successful request for page 24.\n",
      "Successful request for page 25.\n",
      "Successful request for page 26.\n",
      "Successful request for page 27.\n",
      "Successful request for page 28.\n",
      "Successful request for page 29.\n",
      "Successful request for page 30.\n",
      "Successful request for page 31.\n",
      "Successful request for page 32.\n",
      "Successful request for page 33.\n",
      "Successful request for page 34.\n",
      "Successful request for page 35.\n",
      "Successful request for page 36.\n",
      "Successful request for page 37.\n",
      "Successful request for page 38.\n",
      "Successful request for page 39.\n",
      "Successful request for page 40.\n",
      "Successful request for page 41.\n",
      "Successful request for page 42.\n",
      "Successful request for page 43.\n",
      "Successful request for page 44.\n",
      "Successful request for page 45.\n",
      "Successful request for page 46.\n",
      "Successful request for page 47.\n",
      "Successful request for page 48.\n",
      "Successful request for page 49.\n",
      "Successful request for page 50.\n"
     ]
    }
   ],
   "source": [
    "product_id = []\n",
    "\n",
    "for i in range(1, 50 + 1):\n",
    "    params['page'] = i\n",
    "    response = requests.get('https://tiki.vn/api/personalish/v1/blocks/listings', headers=headers, params=params)#, cookies=cookies)\n",
    "    if response.status_code == 200:\n",
    "        print(f'Successful request for page {i}.')\n",
    "        for record in response.json().get('data'):\n",
    "            product_id.append({'id': record.get('id')})\n",
    "            \n",
    "df = pd.DataFrame(product_id)\n",
    "df.to_csv(os.path.join(csv_path), index=False)"
   ]
  }
 ],
 "metadata": {
  "kernelspec": {
   "display_name": "Python 3",
   "language": "python",
   "name": "python3"
  },
  "language_info": {
   "codemirror_mode": {
    "name": "ipython",
    "version": 3
   },
   "file_extension": ".py",
   "mimetype": "text/x-python",
   "name": "python",
   "nbconvert_exporter": "python",
   "pygments_lexer": "ipython3",
   "version": "3.11.4"
  },
  "orig_nbformat": 4
 },
 "nbformat": 4,
 "nbformat_minor": 2
}
